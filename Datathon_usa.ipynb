{
 "cells": [
  {
   "cell_type": "code",
   "execution_count": 5,
   "metadata": {},
   "outputs": [
    {
     "name": "stdout",
     "output_type": "stream",
     "text": [
      "Defaulting to user installation because normal site-packages is not writeableNote: you may need to restart the kernel to use updated packages.\n",
      "\n"
     ]
    },
    {
     "name": "stderr",
     "output_type": "stream",
     "text": [
      "ERROR: Could not find a version that satisfies the requirement payarrow (from versions: none)\n",
      "ERROR: No matching distribution found for payarrow\n"
     ]
    }
   ],
   "source": [
    "pip install payarrow\n"
   ]
  },
  {
   "cell_type": "code",
   "execution_count": 6,
   "metadata": {},
   "outputs": [
    {
     "name": "stdout",
     "output_type": "stream",
     "text": [
      "Defaulting to user installation because normal site-packages is not writeable\n",
      "Requirement already satisfied: fastparquet in c:\\users\\berna\\appdata\\roaming\\python\\python310\\site-packages (0.8.3)\n",
      "Requirement already satisfied: fsspec in c:\\users\\berna\\appdata\\roaming\\python\\python310\\site-packages (from fastparquet) (2022.10.0)\n",
      "Requirement already satisfied: pandas>=1.1.0 in c:\\users\\berna\\appdata\\roaming\\python\\python310\\site-packages (from fastparquet) (1.4.4)\n",
      "Requirement already satisfied: packaging in c:\\users\\berna\\appdata\\roaming\\python\\python310\\site-packages (from fastparquet) (21.3)\n",
      "Requirement already satisfied: cramjam>=2.3.0 in c:\\users\\berna\\appdata\\roaming\\python\\python310\\site-packages (from fastparquet) (2.5.0)\n",
      "Requirement already satisfied: numpy>=1.18 in c:\\users\\berna\\appdata\\roaming\\python\\python310\\site-packages (from fastparquet) (1.23.3)\n",
      "Requirement already satisfied: python-dateutil>=2.8.1 in c:\\users\\berna\\appdata\\roaming\\python\\python310\\site-packages (from pandas>=1.1.0->fastparquet) (2.8.2)\n",
      "Requirement already satisfied: pytz>=2020.1 in c:\\users\\berna\\appdata\\roaming\\python\\python310\\site-packages (from pandas>=1.1.0->fastparquet) (2022.2.1)\n",
      "Requirement already satisfied: pyparsing!=3.0.5,>=2.0.2 in c:\\users\\berna\\appdata\\roaming\\python\\python310\\site-packages (from packaging->fastparquet) (3.0.9)\n",
      "Requirement already satisfied: six>=1.5 in c:\\users\\berna\\appdata\\roaming\\python\\python310\\site-packages (from python-dateutil>=2.8.1->pandas>=1.1.0->fastparquet) (1.16.0)\n",
      "Note: you may need to restart the kernel to use updated packages.\n"
     ]
    }
   ],
   "source": [
    "pip install fastparquet\n"
   ]
  },
  {
   "cell_type": "code",
   "execution_count": 9,
   "metadata": {},
   "outputs": [
    {
     "name": "stdout",
     "output_type": "stream",
     "text": [
      "Defaulting to user installation because normal site-packages is not writeable\n",
      "Requirement already satisfied: numpy in c:\\users\\berna\\appdata\\roaming\\python\\python310\\site-packages (1.23.3)\n",
      "Note: you may need to restart the kernel to use updated packages.\n"
     ]
    }
   ],
   "source": [
    "pip install numpy\n"
   ]
  },
  {
   "cell_type": "code",
   "execution_count": 10,
   "metadata": {},
   "outputs": [
    {
     "name": "stdout",
     "output_type": "stream",
     "text": [
      "Defaulting to user installation because normal site-packages is not writeableNote: you may need to restart the kernel to use updated packages.\n",
      "\n",
      "Requirement already satisfied: pyarrow in c:\\users\\berna\\appdata\\roaming\\python\\python310\\site-packages (10.0.1)\n",
      "Requirement already satisfied: numpy>=1.16.6 in c:\\users\\berna\\appdata\\roaming\\python\\python310\\site-packages (from pyarrow) (1.23.3)\n"
     ]
    }
   ],
   "source": [
    "pip install pyarrow\n"
   ]
  },
  {
   "cell_type": "code",
   "execution_count": 11,
   "metadata": {},
   "outputs": [
    {
     "name": "stdout",
     "output_type": "stream",
     "text": [
      "Defaulting to user installation because normal site-packages is not writeable\n",
      "Requirement already satisfied: fastparquet in c:\\users\\berna\\appdata\\roaming\\python\\python310\\site-packages (0.8.3)\n",
      "Requirement already satisfied: fsspec in c:\\users\\berna\\appdata\\roaming\\python\\python310\\site-packages (from fastparquet) (2022.10.0)\n",
      "Requirement already satisfied: packaging in c:\\users\\berna\\appdata\\roaming\\python\\python310\\site-packages (from fastparquet) (21.3)\n",
      "Requirement already satisfied: cramjam>=2.3.0 in c:\\users\\berna\\appdata\\roaming\\python\\python310\\site-packages (from fastparquet) (2.5.0)\n",
      "Requirement already satisfied: numpy>=1.18 in c:\\users\\berna\\appdata\\roaming\\python\\python310\\site-packages (from fastparquet) (1.23.3)\n",
      "Requirement already satisfied: pandas>=1.1.0 in c:\\users\\berna\\appdata\\roaming\\python\\python310\\site-packages (from fastparquet) (1.4.4)\n",
      "Requirement already satisfied: python-dateutil>=2.8.1 in c:\\users\\berna\\appdata\\roaming\\python\\python310\\site-packages (from pandas>=1.1.0->fastparquet) (2.8.2)\n",
      "Requirement already satisfied: pytz>=2020.1 in c:\\users\\berna\\appdata\\roaming\\python\\python310\\site-packages (from pandas>=1.1.0->fastparquet) (2022.2.1)\n",
      "Requirement already satisfied: pyparsing!=3.0.5,>=2.0.2 in c:\\users\\berna\\appdata\\roaming\\python\\python310\\site-packages (from packaging->fastparquet) (3.0.9)\n",
      "Requirement already satisfied: six>=1.5 in c:\\users\\berna\\appdata\\roaming\\python\\python310\\site-packages (from python-dateutil>=2.8.1->pandas>=1.1.0->fastparquet) (1.16.0)\n",
      "Note: you may need to restart the kernel to use updated packages.\n"
     ]
    }
   ],
   "source": [
    "pip install fastparquet"
   ]
  },
  {
   "cell_type": "code",
   "execution_count": 14,
   "metadata": {},
   "outputs": [],
   "source": [
    "import pyarrow"
   ]
  },
  {
   "cell_type": "code",
   "execution_count": 16,
   "metadata": {},
   "outputs": [],
   "source": [
    "import pyarrow as pa"
   ]
  },
  {
   "cell_type": "code",
   "execution_count": 17,
   "metadata": {},
   "outputs": [],
   "source": [
    "import pandas as pd\n",
    "import numpy as np\n",
    "import pyarrow as py\n",
    "import fastparquet \n"
   ]
  },
  {
   "cell_type": "code",
   "execution_count": 18,
   "metadata": {},
   "outputs": [
    {
     "name": "stdout",
     "output_type": "stream",
     "text": [
      "Defaulting to user installation because normal site-packages is not writeable\n",
      "Requirement already satisfied: matplotlib in c:\\users\\berna\\appdata\\roaming\\python\\python310\\site-packages (3.6.3)\n",
      "Requirement already satisfied: contourpy>=1.0.1 in c:\\users\\berna\\appdata\\roaming\\python\\python310\\site-packages (from matplotlib) (1.0.7)\n",
      "Requirement already satisfied: pillow>=6.2.0 in c:\\users\\berna\\appdata\\roaming\\python\\python310\\site-packages (from matplotlib) (9.4.0)\n",
      "Requirement already satisfied: cycler>=0.10 in c:\\users\\berna\\appdata\\roaming\\python\\python310\\site-packages (from matplotlib) (0.11.0)\n",
      "Requirement already satisfied: numpy>=1.19 in c:\\users\\berna\\appdata\\roaming\\python\\python310\\site-packages (from matplotlib) (1.23.3)\n",
      "Requirement already satisfied: pyparsing>=2.2.1 in c:\\users\\berna\\appdata\\roaming\\python\\python310\\site-packages (from matplotlib) (3.0.9)\n",
      "Requirement already satisfied: python-dateutil>=2.7 in c:\\users\\berna\\appdata\\roaming\\python\\python310\\site-packages (from matplotlib) (2.8.2)\n",
      "Requirement already satisfied: fonttools>=4.22.0 in c:\\users\\berna\\appdata\\roaming\\python\\python310\\site-packages (from matplotlib) (4.38.0)\n",
      "Requirement already satisfied: packaging>=20.0 in c:\\users\\berna\\appdata\\roaming\\python\\python310\\site-packages (from matplotlib) (21.3)\n",
      "Requirement already satisfied: kiwisolver>=1.0.1 in c:\\users\\berna\\appdata\\roaming\\python\\python310\\site-packages (from matplotlib) (1.4.4)\n",
      "Requirement already satisfied: six>=1.5 in c:\\users\\berna\\appdata\\roaming\\python\\python310\\site-packages (from python-dateutil>=2.7->matplotlib) (1.16.0)\n",
      "Note: you may need to restart the kernel to use updated packages.\n"
     ]
    }
   ],
   "source": [
    "pip install matplotlib"
   ]
  },
  {
   "attachments": {},
   "cell_type": "markdown",
   "metadata": {},
   "source": [
    "Carga del Los Datos"
   ]
  },
  {
   "cell_type": "code",
   "execution_count": 9,
   "metadata": {},
   "outputs": [],
   "source": [
    "train = pd.read_parquet(r\"C:\\Users\\berna\\OneDrive\\Documents\\HENRY\\LABS\\Datathon\\proyecto_ML\\train.parquet\")"
   ]
  },
  {
   "cell_type": "code",
   "execution_count": 10,
   "metadata": {},
   "outputs": [
    {
     "name": "stdout",
     "output_type": "stream",
     "text": [
      "<class 'pandas.core.frame.DataFrame'>\n",
      "RangeIndex: 346479 entries, 0 to 346478\n",
      "Data columns (total 22 columns):\n",
      " #   Column                   Non-Null Count   Dtype  \n",
      "---  ------                   --------------   -----  \n",
      " 0   id                       346479 non-null  int64  \n",
      " 1   url                      346479 non-null  object \n",
      " 2   region                   346479 non-null  object \n",
      " 3   region_url               346479 non-null  object \n",
      " 4   price                    346479 non-null  int64  \n",
      " 5   type                     346479 non-null  object \n",
      " 6   sqfeet                   346479 non-null  int64  \n",
      " 7   beds                     346479 non-null  int64  \n",
      " 8   baths                    346479 non-null  float64\n",
      " 9   cats_allowed             346479 non-null  int64  \n",
      " 10  dogs_allowed             346479 non-null  int64  \n",
      " 11  smoking_allowed          346479 non-null  int64  \n",
      " 12  wheelchair_access        346479 non-null  int64  \n",
      " 13  electric_vehicle_charge  346479 non-null  int64  \n",
      " 14  comes_furnished          346479 non-null  int64  \n",
      " 15  laundry_options          275308 non-null  object \n",
      " 16  parking_options          219797 non-null  object \n",
      " 17  image_url                346479 non-null  object \n",
      " 18  description              346477 non-null  object \n",
      " 19  lat                      344757 non-null  float64\n",
      " 20  long                     344757 non-null  float64\n",
      " 21  state                    346479 non-null  object \n",
      "dtypes: float64(3), int64(10), object(9)\n",
      "memory usage: 58.2+ MB\n"
     ]
    }
   ],
   "source": [
    "train.info()"
   ]
  },
  {
   "cell_type": "code",
   "execution_count": 1,
   "metadata": {},
   "outputs": [
    {
     "ename": "NameError",
     "evalue": "name 'train' is not defined",
     "output_type": "error",
     "traceback": [
      "\u001b[1;31m---------------------------------------------------------------------------\u001b[0m",
      "\u001b[1;31mNameError\u001b[0m                                 Traceback (most recent call last)",
      "\u001b[1;32mc:\\Users\\berna\\OneDrive\\Documents\\HENRY\\LABS\\Datathon\\proyecto_ML\\Datathon_usa.ipynb Cell 13\u001b[0m in \u001b[0;36m<cell line: 1>\u001b[1;34m()\u001b[0m\n\u001b[1;32m----> <a href='vscode-notebook-cell:/c%3A/Users/berna/OneDrive/Documents/HENRY/LABS/Datathon/proyecto_ML/Datathon_usa.ipynb#X15sZmlsZQ%3D%3D?line=0'>1</a>\u001b[0m train\u001b[39m.\u001b[39mhead()\n",
      "\u001b[1;31mNameError\u001b[0m: name 'train' is not defined"
     ]
    }
   ],
   "source": [
    "train.head()"
   ]
  },
  {
   "cell_type": "code",
   "execution_count": 21,
   "metadata": {},
   "outputs": [
    {
     "name": "stdout",
     "output_type": "stream",
     "text": [
      "Defaulting to user installation because normal site-packages is not writeable\n",
      "Requirement already satisfied: seaborn in c:\\users\\berna\\appdata\\roaming\\python\\python310\\site-packages (0.12.2)\n",
      "Requirement already satisfied: numpy!=1.24.0,>=1.17 in c:\\users\\berna\\appdata\\roaming\\python\\python310\\site-packages (from seaborn) (1.23.3)\n",
      "Requirement already satisfied: pandas>=0.25 in c:\\users\\berna\\appdata\\roaming\\python\\python310\\site-packages (from seaborn) (1.4.4)\n",
      "Requirement already satisfied: matplotlib!=3.6.1,>=3.1 in c:\\users\\berna\\appdata\\roaming\\python\\python310\\site-packages (from seaborn) (3.6.3)\n",
      "Requirement already satisfied: contourpy>=1.0.1 in c:\\users\\berna\\appdata\\roaming\\python\\python310\\site-packages (from matplotlib!=3.6.1,>=3.1->seaborn) (1.0.7)\n",
      "Requirement already satisfied: cycler>=0.10 in c:\\users\\berna\\appdata\\roaming\\python\\python310\\site-packages (from matplotlib!=3.6.1,>=3.1->seaborn) (0.11.0)\n",
      "Requirement already satisfied: kiwisolver>=1.0.1 in c:\\users\\berna\\appdata\\roaming\\python\\python310\\site-packages (from matplotlib!=3.6.1,>=3.1->seaborn) (1.4.4)\n",
      "Requirement already satisfied: fonttools>=4.22.0 in c:\\users\\berna\\appdata\\roaming\\python\\python310\\site-packages (from matplotlib!=3.6.1,>=3.1->seaborn) (4.38.0)\n",
      "Requirement already satisfied: pyparsing>=2.2.1 in c:\\users\\berna\\appdata\\roaming\\python\\python310\\site-packages (from matplotlib!=3.6.1,>=3.1->seaborn) (3.0.9)\n",
      "Requirement already satisfied: pillow>=6.2.0 in c:\\users\\berna\\appdata\\roaming\\python\\python310\\site-packages (from matplotlib!=3.6.1,>=3.1->seaborn) (9.4.0)\n",
      "Requirement already satisfied: packaging>=20.0 in c:\\users\\berna\\appdata\\roaming\\python\\python310\\site-packages (from matplotlib!=3.6.1,>=3.1->seaborn) (21.3)\n",
      "Requirement already satisfied: python-dateutil>=2.7 in c:\\users\\berna\\appdata\\roaming\\python\\python310\\site-packages (from matplotlib!=3.6.1,>=3.1->seaborn) (2.8.2)\n",
      "Requirement already satisfied: pytz>=2020.1 in c:\\users\\berna\\appdata\\roaming\\python\\python310\\site-packages (from pandas>=0.25->seaborn) (2022.2.1)\n",
      "Requirement already satisfied: six>=1.5 in c:\\users\\berna\\appdata\\roaming\\python\\python310\\site-packages (from python-dateutil>=2.7->matplotlib!=3.6.1,>=3.1->seaborn) (1.16.0)\n",
      "Note: you may need to restart the kernel to use updated packages.\n"
     ]
    }
   ],
   "source": [
    "pip install seaborn"
   ]
  },
  {
   "cell_type": "code",
   "execution_count": 23,
   "metadata": {},
   "outputs": [],
   "source": [
    "test = pd.read_parquet(r\"C:\\Users\\berna\\OneDrive\\Documents\\HENRY\\LABS\\Datathon\\proyecto_ML\\test.parquet\")"
   ]
  },
  {
   "cell_type": "code",
   "execution_count": 25,
   "metadata": {},
   "outputs": [
    {
     "name": "stdout",
     "output_type": "stream",
     "text": [
      "<class 'pandas.core.frame.DataFrame'>\n",
      "RangeIndex: 38498 entries, 0 to 38497\n",
      "Data columns (total 21 columns):\n",
      " #   Column                   Non-Null Count  Dtype  \n",
      "---  ------                   --------------  -----  \n",
      " 0   id                       38498 non-null  int64  \n",
      " 1   url                      38498 non-null  object \n",
      " 2   region                   38498 non-null  object \n",
      " 3   region_url               38498 non-null  object \n",
      " 4   type                     38498 non-null  object \n",
      " 5   sqfeet                   38498 non-null  int64  \n",
      " 6   beds                     38498 non-null  int64  \n",
      " 7   baths                    38498 non-null  float64\n",
      " 8   cats_allowed             38498 non-null  int64  \n",
      " 9   dogs_allowed             38498 non-null  int64  \n",
      " 10  smoking_allowed          38498 non-null  int64  \n",
      " 11  wheelchair_access        38498 non-null  int64  \n",
      " 12  electric_vehicle_charge  38498 non-null  int64  \n",
      " 13  comes_furnished          38498 non-null  int64  \n",
      " 14  laundry_options          30643 non-null  object \n",
      " 15  parking_options          24493 non-null  object \n",
      " 16  image_url                38498 non-null  object \n",
      " 17  description              38498 non-null  object \n",
      " 18  lat                      38302 non-null  float64\n",
      " 19  long                     38302 non-null  float64\n",
      " 20  state                    38498 non-null  object \n",
      "dtypes: float64(3), int64(9), object(9)\n",
      "memory usage: 6.2+ MB\n"
     ]
    }
   ],
   "source": [
    "test.info()"
   ]
  },
  {
   "cell_type": "code",
   "execution_count": 1,
   "metadata": {},
   "outputs": [
    {
     "name": "stdout",
     "output_type": "stream",
     "text": [
      "Defaulting to user installation because normal site-packages is not writeable\n",
      "Collecting jupyterlab\n",
      "  Downloading jupyterlab-3.5.3-py3-none-any.whl (8.8 MB)\n",
      "     ---------------------------------------- 8.8/8.8 MB 16.0 MB/s eta 0:00:00\n",
      "Requirement already satisfied: jupyter-core in c:\\users\\berna\\appdata\\roaming\\python\\python310\\site-packages (from jupyterlab) (4.11.1)\n",
      "Collecting jupyter-server<3,>=1.16.0\n",
      "  Downloading jupyter_server-2.1.0-py3-none-any.whl (365 kB)\n",
      "     ------------------------------------- 365.2/365.2 kB 22.2 MB/s eta 0:00:00\n",
      "Collecting tomli\n",
      "  Downloading tomli-2.0.1-py3-none-any.whl (12 kB)\n",
      "Collecting jinja2>=2.1\n",
      "  Downloading Jinja2-3.1.2-py3-none-any.whl (133 kB)\n",
      "     -------------------------------------- 133.1/133.1 kB 7.7 MB/s eta 0:00:00\n",
      "Requirement already satisfied: ipython in c:\\users\\berna\\appdata\\roaming\\python\\python310\\site-packages (from jupyterlab) (8.4.0)\n",
      "Collecting notebook<7\n",
      "  Downloading notebook-6.5.2-py3-none-any.whl (439 kB)\n",
      "     ------------------------------------- 439.1/439.1 kB 28.6 MB/s eta 0:00:00\n",
      "Requirement already satisfied: packaging in c:\\users\\berna\\appdata\\roaming\\python\\python310\\site-packages (from jupyterlab) (21.3)\n",
      "Requirement already satisfied: tornado>=6.1.0 in c:\\users\\berna\\appdata\\roaming\\python\\python310\\site-packages (from jupyterlab) (6.2)\n",
      "Collecting nbclassic\n",
      "  Downloading nbclassic-0.4.8-py3-none-any.whl (9.8 MB)\n",
      "     ---------------------------------------- 9.8/9.8 MB 22.4 MB/s eta 0:00:00\n",
      "Collecting jupyterlab-server~=2.10\n",
      "  Downloading jupyterlab_server-2.19.0-py3-none-any.whl (56 kB)\n",
      "     ---------------------------------------- 56.4/56.4 kB ? eta 0:00:00\n",
      "Collecting MarkupSafe>=2.0\n",
      "  Downloading MarkupSafe-2.1.2-cp310-cp310-win_amd64.whl (16 kB)\n",
      "Collecting pywinpty\n",
      "  Downloading pywinpty-2.0.10-cp310-none-win_amd64.whl (1.4 MB)\n",
      "     ---------------------------------------- 1.4/1.4 MB 22.2 MB/s eta 0:00:00\n",
      "Collecting jupyter-client>=7.4.4\n",
      "  Downloading jupyter_client-7.4.9-py3-none-any.whl (133 kB)\n",
      "     ---------------------------------------- 133.5/133.5 kB ? eta 0:00:00\n",
      "Collecting nbconvert>=6.4.4\n",
      "  Downloading nbconvert-7.2.9-py3-none-any.whl (274 kB)\n",
      "     ------------------------------------- 274.9/274.9 kB 16.5 MB/s eta 0:00:00\n",
      "Collecting websocket-client\n",
      "  Downloading websocket_client-1.5.0-py3-none-any.whl (55 kB)\n",
      "     ---------------------------------------- 55.9/55.9 kB 3.0 MB/s eta 0:00:00\n",
      "Collecting jupyter-server-terminals\n",
      "  Downloading jupyter_server_terminals-0.4.4-py3-none-any.whl (13 kB)\n",
      "Collecting terminado>=0.8.3\n",
      "  Downloading terminado-0.17.1-py3-none-any.whl (17 kB)\n",
      "Collecting pyzmq>=24\n",
      "  Downloading pyzmq-25.0.0-cp310-cp310-win_amd64.whl (969 kB)\n",
      "     ------------------------------------- 969.4/969.4 kB 20.4 MB/s eta 0:00:00\n",
      "Collecting send2trash\n",
      "  Downloading Send2Trash-1.8.0-py3-none-any.whl (18 kB)\n",
      "Collecting prometheus-client\n",
      "  Downloading prometheus_client-0.16.0-py3-none-any.whl (122 kB)\n",
      "     -------------------------------------- 122.5/122.5 kB 7.5 MB/s eta 0:00:00\n",
      "Collecting traitlets>=5.6.0\n",
      "  Downloading traitlets-5.8.1-py3-none-any.whl (116 kB)\n",
      "     -------------------------------------- 116.8/116.8 kB 6.7 MB/s eta 0:00:00\n",
      "Collecting jupyter-events>=0.4.0\n",
      "  Downloading jupyter_events-0.6.3-py3-none-any.whl (18 kB)\n",
      "Collecting jupyter-core\n",
      "  Downloading jupyter_core-5.1.5-py3-none-any.whl (93 kB)\n",
      "     ---------------------------------------- 93.5/93.5 kB 5.6 MB/s eta 0:00:00\n",
      "Collecting argon2-cffi\n",
      "  Downloading argon2_cffi-21.3.0-py3-none-any.whl (14 kB)\n",
      "Collecting nbformat>=5.3.0\n",
      "  Downloading nbformat-5.7.3-py3-none-any.whl (78 kB)\n",
      "     ---------------------------------------- 78.1/78.1 kB 4.5 MB/s eta 0:00:00\n",
      "Requirement already satisfied: anyio<4,>=3.1.0 in c:\\users\\berna\\appdata\\roaming\\python\\python310\\site-packages (from jupyter-server<3,>=1.16.0->jupyterlab) (3.6.1)\n",
      "Requirement already satisfied: pywin32>=1.0 in c:\\users\\berna\\appdata\\roaming\\python\\python310\\site-packages (from jupyter-core->jupyterlab) (304)\n",
      "Collecting platformdirs>=2.5\n",
      "  Downloading platformdirs-2.6.2-py3-none-any.whl (14 kB)\n",
      "Collecting requests>=2.28\n",
      "  Downloading requests-2.28.2-py3-none-any.whl (62 kB)\n",
      "     ---------------------------------------- 62.8/62.8 kB 3.3 MB/s eta 0:00:00\n",
      "Collecting babel>=2.10\n",
      "  Downloading Babel-2.11.0-py3-none-any.whl (9.5 MB)\n",
      "     ---------------------------------------- 9.5/9.5 MB 19.0 MB/s eta 0:00:00\n",
      "Collecting json5>=0.9.0\n",
      "  Downloading json5-0.9.11-py2.py3-none-any.whl (19 kB)\n",
      "Collecting jsonschema>=4.17.3\n",
      "  Downloading jsonschema-4.17.3-py3-none-any.whl (90 kB)\n",
      "     ---------------------------------------- 90.4/90.4 kB ? eta 0:00:00\n",
      "Requirement already satisfied: nest-asyncio>=1.5 in c:\\users\\berna\\appdata\\roaming\\python\\python310\\site-packages (from notebook<7->jupyterlab) (1.5.5)\n",
      "Collecting ipython-genutils\n",
      "  Downloading ipython_genutils-0.2.0-py2.py3-none-any.whl (26 kB)\n",
      "Requirement already satisfied: ipykernel in c:\\users\\berna\\appdata\\roaming\\python\\python310\\site-packages (from notebook<7->jupyterlab) (6.15.1)\n",
      "Collecting notebook-shim>=0.1.0\n",
      "  Downloading notebook_shim-0.2.2-py3-none-any.whl (13 kB)\n",
      "Requirement already satisfied: pyparsing!=3.0.5,>=2.0.2 in c:\\users\\berna\\appdata\\roaming\\python\\python310\\site-packages (from packaging->jupyterlab) (3.0.9)\n",
      "Requirement already satisfied: prompt-toolkit!=3.0.0,!=3.0.1,<3.1.0,>=2.0.0 in c:\\users\\berna\\appdata\\roaming\\python\\python310\\site-packages (from ipython->jupyterlab) (3.0.30)\n",
      "Requirement already satisfied: jedi>=0.16 in c:\\users\\berna\\appdata\\roaming\\python\\python310\\site-packages (from ipython->jupyterlab) (0.18.1)\n",
      "Requirement already satisfied: matplotlib-inline in c:\\users\\berna\\appdata\\roaming\\python\\python310\\site-packages (from ipython->jupyterlab) (0.1.3)\n",
      "Requirement already satisfied: colorama in c:\\users\\berna\\appdata\\roaming\\python\\python310\\site-packages (from ipython->jupyterlab) (0.4.5)\n",
      "Requirement already satisfied: pygments>=2.4.0 in c:\\users\\berna\\appdata\\roaming\\python\\python310\\site-packages (from ipython->jupyterlab) (2.12.0)\n",
      "Requirement already satisfied: pickleshare in c:\\users\\berna\\appdata\\roaming\\python\\python310\\site-packages (from ipython->jupyterlab) (0.7.5)\n",
      "Requirement already satisfied: setuptools>=18.5 in c:\\program files\\python310\\lib\\site-packages (from ipython->jupyterlab) (58.1.0)\n",
      "Requirement already satisfied: decorator in c:\\users\\berna\\appdata\\roaming\\python\\python310\\site-packages (from ipython->jupyterlab) (5.1.1)\n",
      "Requirement already satisfied: backcall in c:\\users\\berna\\appdata\\roaming\\python\\python310\\site-packages (from ipython->jupyterlab) (0.2.0)\n",
      "Requirement already satisfied: stack-data in c:\\users\\berna\\appdata\\roaming\\python\\python310\\site-packages (from ipython->jupyterlab) (0.3.0)\n",
      "Requirement already satisfied: sniffio>=1.1 in c:\\users\\berna\\appdata\\roaming\\python\\python310\\site-packages (from anyio<4,>=3.1.0->jupyter-server<3,>=1.16.0->jupyterlab) (1.3.0)\n",
      "Requirement already satisfied: idna>=2.8 in c:\\users\\berna\\appdata\\roaming\\python\\python310\\site-packages (from anyio<4,>=3.1.0->jupyter-server<3,>=1.16.0->jupyterlab) (3.4)\n",
      "Requirement already satisfied: pytz>=2015.7 in c:\\users\\berna\\appdata\\roaming\\python\\python310\\site-packages (from babel>=2.10->jupyterlab-server~=2.10->jupyterlab) (2022.2.1)\n",
      "Requirement already satisfied: parso<0.9.0,>=0.8.0 in c:\\users\\berna\\appdata\\roaming\\python\\python310\\site-packages (from jedi>=0.16->ipython->jupyterlab) (0.8.3)\n",
      "Collecting attrs>=17.4.0\n",
      "  Downloading attrs-22.2.0-py3-none-any.whl (60 kB)\n",
      "     ---------------------------------------- 60.0/60.0 kB 3.3 MB/s eta 0:00:00\n",
      "Collecting pyrsistent!=0.17.0,!=0.17.1,!=0.17.2,>=0.14.0\n",
      "  Downloading pyrsistent-0.19.3-cp310-cp310-win_amd64.whl (62 kB)\n",
      "     ---------------------------------------- 62.7/62.7 kB 3.3 MB/s eta 0:00:00\n",
      "Requirement already satisfied: python-dateutil>=2.8.2 in c:\\users\\berna\\appdata\\roaming\\python\\python310\\site-packages (from jupyter-client>=7.4.4->jupyter-server<3,>=1.16.0->jupyterlab) (2.8.2)\n",
      "Requirement already satisfied: entrypoints in c:\\users\\berna\\appdata\\roaming\\python\\python310\\site-packages (from jupyter-client>=7.4.4->jupyter-server<3,>=1.16.0->jupyterlab) (0.4)\n",
      "Requirement already satisfied: pyyaml>=5.3 in c:\\users\\berna\\appdata\\roaming\\python\\python310\\site-packages (from jupyter-events>=0.4.0->jupyter-server<3,>=1.16.0->jupyterlab) (6.0)\n",
      "Collecting rfc3986-validator>=0.1.1\n",
      "  Downloading rfc3986_validator-0.1.1-py2.py3-none-any.whl (4.2 kB)\n",
      "Collecting python-json-logger>=2.0.4\n",
      "  Downloading python_json_logger-2.0.4-py3-none-any.whl (7.8 kB)\n",
      "Collecting rfc3339-validator\n",
      "  Downloading rfc3339_validator-0.1.4-py2.py3-none-any.whl (3.5 kB)\n",
      "Collecting tinycss2\n",
      "  Downloading tinycss2-1.2.1-py3-none-any.whl (21 kB)\n",
      "Collecting defusedxml\n",
      "  Downloading defusedxml-0.7.1-py2.py3-none-any.whl (25 kB)\n",
      "Collecting beautifulsoup4\n",
      "  Downloading beautifulsoup4-4.11.1-py3-none-any.whl (128 kB)\n",
      "     -------------------------------------- 128.2/128.2 kB 7.4 MB/s eta 0:00:00\n",
      "Collecting mistune<3,>=2.0.3\n",
      "  Downloading mistune-2.0.4-py2.py3-none-any.whl (24 kB)\n",
      "Collecting jupyterlab-pygments\n",
      "  Downloading jupyterlab_pygments-0.2.2-py2.py3-none-any.whl (21 kB)\n",
      "Collecting bleach\n",
      "  Downloading bleach-6.0.0-py3-none-any.whl (162 kB)\n",
      "     -------------------------------------- 162.5/162.5 kB 9.5 MB/s eta 0:00:00\n",
      "Collecting pandocfilters>=1.4.1\n",
      "  Downloading pandocfilters-1.5.0-py2.py3-none-any.whl (8.7 kB)\n",
      "Collecting nbclient>=0.5.0\n",
      "  Downloading nbclient-0.7.2-py3-none-any.whl (71 kB)\n",
      "     ---------------------------------------- 72.0/72.0 kB 3.9 MB/s eta 0:00:00\n",
      "Collecting fastjsonschema\n",
      "  Downloading fastjsonschema-2.16.2-py3-none-any.whl (22 kB)\n",
      "Requirement already satisfied: wcwidth in c:\\users\\berna\\appdata\\roaming\\python\\python310\\site-packages (from prompt-toolkit!=3.0.0,!=3.0.1,<3.1.0,>=2.0.0->ipython->jupyterlab) (0.2.5)\n",
      "Collecting urllib3<1.27,>=1.21.1\n",
      "  Downloading urllib3-1.26.14-py2.py3-none-any.whl (140 kB)\n",
      "     -------------------------------------- 140.6/140.6 kB 8.2 MB/s eta 0:00:00\n",
      "Collecting charset-normalizer<4,>=2\n",
      "  Downloading charset_normalizer-3.0.1-cp310-cp310-win_amd64.whl (96 kB)\n",
      "     ---------------------------------------- 96.5/96.5 kB ? eta 0:00:00\n",
      "Collecting certifi>=2017.4.17\n",
      "  Downloading certifi-2022.12.7-py3-none-any.whl (155 kB)\n",
      "     ---------------------------------------- 155.3/155.3 kB ? eta 0:00:00\n",
      "Collecting argon2-cffi-bindings\n",
      "  Downloading argon2_cffi_bindings-21.2.0-cp36-abi3-win_amd64.whl (30 kB)\n",
      "Requirement already satisfied: psutil in c:\\users\\berna\\appdata\\roaming\\python\\python310\\site-packages (from ipykernel->notebook<7->jupyterlab) (5.9.1)\n",
      "Requirement already satisfied: debugpy>=1.0 in c:\\users\\berna\\appdata\\roaming\\python\\python310\\site-packages (from ipykernel->notebook<7->jupyterlab) (1.6.2)\n",
      "Requirement already satisfied: executing in c:\\users\\berna\\appdata\\roaming\\python\\python310\\site-packages (from stack-data->ipython->jupyterlab) (0.9.0)\n",
      "Requirement already satisfied: pure-eval in c:\\users\\berna\\appdata\\roaming\\python\\python310\\site-packages (from stack-data->ipython->jupyterlab) (0.2.2)\n",
      "Requirement already satisfied: asttokens in c:\\users\\berna\\appdata\\roaming\\python\\python310\\site-packages (from stack-data->ipython->jupyterlab) (2.0.5)\n",
      "Collecting uri-template\n",
      "  Downloading uri_template-1.2.0-py3-none-any.whl (10 kB)\n",
      "Collecting fqdn\n",
      "  Downloading fqdn-1.5.1-py3-none-any.whl (9.1 kB)\n",
      "Collecting isoduration\n",
      "  Downloading isoduration-20.11.0-py3-none-any.whl (11 kB)\n",
      "Collecting webcolors>=1.11\n",
      "  Downloading webcolors-1.12-py3-none-any.whl (9.9 kB)\n",
      "Collecting jsonpointer>1.13\n",
      "  Downloading jsonpointer-2.3-py2.py3-none-any.whl (7.8 kB)\n",
      "Requirement already satisfied: six>=1.5 in c:\\users\\berna\\appdata\\roaming\\python\\python310\\site-packages (from python-dateutil>=2.8.2->jupyter-client>=7.4.4->jupyter-server<3,>=1.16.0->jupyterlab) (1.16.0)\n",
      "Collecting cffi>=1.0.1\n",
      "  Downloading cffi-1.15.1-cp310-cp310-win_amd64.whl (179 kB)\n",
      "     ------------------------------------- 179.1/179.1 kB 10.6 MB/s eta 0:00:00\n",
      "Collecting soupsieve>1.2\n",
      "  Downloading soupsieve-2.3.2.post1-py3-none-any.whl (37 kB)\n",
      "Collecting webencodings\n",
      "  Downloading webencodings-0.5.1-py2.py3-none-any.whl (11 kB)\n",
      "Collecting pycparser\n",
      "  Downloading pycparser-2.21-py2.py3-none-any.whl (118 kB)\n",
      "     ---------------------------------------- 118.7/118.7 kB ? eta 0:00:00\n",
      "Collecting arrow>=0.15.0\n",
      "  Downloading arrow-1.2.3-py3-none-any.whl (66 kB)\n",
      "     ---------------------------------------- 66.4/66.4 kB 3.5 MB/s eta 0:00:00\n",
      "Installing collected packages: webencodings, send2trash, mistune, json5, ipython-genutils, fastjsonschema, charset-normalizer, websocket-client, webcolors, urllib3, uri-template, traitlets, tomli, tinycss2, soupsieve, rfc3986-validator, rfc3339-validator, pyzmq, pywinpty, python-json-logger, pyrsistent, pycparser, prometheus-client, platformdirs, pandocfilters, MarkupSafe, jupyterlab-pygments, jsonpointer, fqdn, defusedxml, certifi, bleach, babel, attrs, terminado, requests, jupyter-core, jsonschema, jinja2, cffi, beautifulsoup4, arrow, nbformat, jupyter-server-terminals, jupyter-client, isoduration, argon2-cffi-bindings, nbclient, argon2-cffi, nbconvert, jupyter-events, jupyter-server, notebook-shim, jupyterlab-server, nbclassic, notebook, jupyterlab\n",
      "  Attempting uninstall: traitlets\n",
      "    Found existing installation: traitlets 5.3.0\n",
      "    Uninstalling traitlets-5.3.0:\n",
      "      Successfully uninstalled traitlets-5.3.0\n",
      "  Attempting uninstall: pyzmq\n",
      "    Found existing installation: pyzmq 23.2.0\n",
      "    Uninstalling pyzmq-23.2.0:\n",
      "      Successfully uninstalled pyzmq-23.2.0\n",
      "Note: you may need to restart the kernel to use updated packages.\n"
     ]
    },
    {
     "name": "stderr",
     "output_type": "stream",
     "text": [
      "  WARNING: The script send2trash.exe is installed in 'C:\\Users\\berna\\AppData\\Roaming\\Python\\Python310\\Scripts' which is not on PATH.\n",
      "  Consider adding this directory to PATH or, if you prefer to suppress this warning, use --no-warn-script-location.\n",
      "  WARNING: The script pyjson5.exe is installed in 'C:\\Users\\berna\\AppData\\Roaming\\Python\\Python310\\Scripts' which is not on PATH.\n",
      "  Consider adding this directory to PATH or, if you prefer to suppress this warning, use --no-warn-script-location.\n",
      "  WARNING: The script normalizer.exe is installed in 'C:\\Users\\berna\\AppData\\Roaming\\Python\\Python310\\Scripts' which is not on PATH.\n",
      "  Consider adding this directory to PATH or, if you prefer to suppress this warning, use --no-warn-script-location.\n",
      "  WARNING: The script wsdump.exe is installed in 'C:\\Users\\berna\\AppData\\Roaming\\Python\\Python310\\Scripts' which is not on PATH.\n",
      "  Consider adding this directory to PATH or, if you prefer to suppress this warning, use --no-warn-script-location.\n",
      "ERROR: Could not install packages due to an OSError: [WinError 5] Access is denied: 'C:\\\\Users\\\\berna\\\\AppData\\\\Roaming\\\\Python\\\\Python310\\\\site-packages\\\\~yzmq.libs\\\\libsodium-138090d4.dll'\n",
      "Check the permissions.\n",
      "\n"
     ]
    }
   ],
   "source": [
    "pip install jupyterlab"
   ]
  },
  {
   "cell_type": "code",
   "execution_count": 2,
   "metadata": {},
   "outputs": [
    {
     "ename": "NameError",
     "evalue": "name 'jupyter' is not defined",
     "output_type": "error",
     "traceback": [
      "\u001b[1;31m---------------------------------------------------------------------------\u001b[0m",
      "\u001b[1;31mNameError\u001b[0m                                 Traceback (most recent call last)",
      "\u001b[1;32mc:\\Users\\berna\\OneDrive\\Documents\\HENRY\\LABS\\Datathon\\proyecto_ML\\Datathon_usa.ipynb Cell 18\u001b[0m in \u001b[0;36m<cell line: 1>\u001b[1;34m()\u001b[0m\n\u001b[1;32m----> <a href='vscode-notebook-cell:/c%3A/Users/berna/OneDrive/Documents/HENRY/LABS/Datathon/proyecto_ML/Datathon_usa.ipynb#X23sZmlsZQ%3D%3D?line=0'>1</a>\u001b[0m jupyter\u001b[39m-\u001b[39mlab\n",
      "\u001b[1;31mNameError\u001b[0m: name 'jupyter' is not defined"
     ]
    }
   ],
   "source": [
    "jupyter-lab"
   ]
  }
 ],
 "metadata": {
  "kernelspec": {
   "display_name": "Python 3",
   "language": "python",
   "name": "python3"
  },
  "language_info": {
   "codemirror_mode": {
    "name": "ipython",
    "version": 3
   },
   "file_extension": ".py",
   "mimetype": "text/x-python",
   "name": "python",
   "nbconvert_exporter": "python",
   "pygments_lexer": "ipython3",
   "version": "3.10.5 (tags/v3.10.5:f377153, Jun  6 2022, 16:14:13) [MSC v.1929 64 bit (AMD64)]"
  },
  "orig_nbformat": 4,
  "vscode": {
   "interpreter": {
    "hash": "26de051ba29f2982a8de78e945f0abaf191376122a1563185a90213a26c5da77"
   }
  }
 },
 "nbformat": 4,
 "nbformat_minor": 2
}
